{
 "cells": [
  {
   "cell_type": "code",
   "execution_count": 1,
   "metadata": {
    "collapsed": true
   },
   "outputs": [],
   "source": [
    "import numpy as np\n",
    "from sklearn import preprocessing\n",
    "from sklearn.model_selection import train_test_split\n",
    "from sklearn.neural_network import MLPClassifier"
   ]
  },
  {
   "cell_type": "code",
   "execution_count": 2,
   "metadata": {
    "collapsed": true
   },
   "outputs": [],
   "source": [
    "data = np.loadtxt('grade.csv',delimiter=',')\n",
    "row = data.shape[0]\n",
    "col = data.shape[1]\n",
    "\n",
    "label = data[:,col-3]\n",
    "data = data[:,:col-3]\n",
    "\n",
    "for i in range(row):\n",
    "    if label[i] <= 4:\n",
    "        label[i] = 1\n",
    "    elif label[i] <= 8:\n",
    "        label[i] = 2\n",
    "    elif label[i] <= 12:\n",
    "        label[i] = 3\n",
    "    elif label[i] <= 16:\n",
    "        label[i] = 4\n",
    "    elif label[i] <= 20:\n",
    "        label[i] = 5"
   ]
  },
  {
   "cell_type": "code",
   "execution_count": 3,
   "metadata": {
    "collapsed": true
   },
   "outputs": [],
   "source": [
    "train, test, train_label_1, test_label_1 = train_test_split(data, label, test_size=0.25)\n",
    "train = preprocessing.scale(train)\n",
    "test = preprocessing.scale(test)\n",
    "train_row = train.shape[0]\n",
    "test_row = test.shape[0]"
   ]
  },
  {
   "cell_type": "code",
   "execution_count": 4,
   "metadata": {},
   "outputs": [
    {
     "data": {
      "text/plain": [
       "MLPClassifier(activation='relu', alpha=1e-05, batch_size='auto', beta_1=0.9,\n",
       "       beta_2=0.999, early_stopping=False, epsilon=1e-08,\n",
       "       hidden_layer_sizes=(64, 512, 64), learning_rate='constant',\n",
       "       learning_rate_init=0.001, max_iter=200, momentum=0.9,\n",
       "       nesterovs_momentum=True, power_t=0.5, random_state=None,\n",
       "       shuffle=True, solver='adam', tol=0.0001, validation_fraction=0.1,\n",
       "       verbose=False, warm_start=False)"
      ]
     },
     "execution_count": 4,
     "metadata": {},
     "output_type": "execute_result"
    }
   ],
   "source": [
    "clf = MLPClassifier(solver='adam', alpha=1e-5, hidden_layer_sizes=(64, 512, 64))\n",
    "clf.fit(train, train_label_1)"
   ]
  },
  {
   "cell_type": "code",
   "execution_count": 5,
   "metadata": {},
   "outputs": [
    {
     "name": "stdout",
     "output_type": "stream",
     "text": [
      "1.0\n"
     ]
    }
   ],
   "source": [
    "c = 0\n",
    "for i in range(train_row):\n",
    "    if clf.predict([train[i,:]]) != train_label_1[i]:\n",
    "        print(i,clf.predict([train[i,:]]),train_label_1[i])\n",
    "        c += 1\n",
    "print(1-c/row)"
   ]
  },
  {
   "cell_type": "code",
   "execution_count": 6,
   "metadata": {},
   "outputs": [
    {
     "name": "stdout",
     "output_type": "stream",
     "text": [
      "0 [ 2.] 3.0\n",
      "1 [ 4.] 3.0\n",
      "5 [ 3.] 4.0\n",
      "7 [ 4.] 2.0\n",
      "11 [ 2.] 5.0\n",
      "12 [ 4.] 3.0\n",
      "14 [ 3.] 4.0\n",
      "17 [ 5.] 3.0\n",
      "22 [ 3.] 4.0\n",
      "24 [ 3.] 2.0\n",
      "25 [ 4.] 3.0\n",
      "29 [ 3.] 2.0\n",
      "32 [ 3.] 4.0\n",
      "34 [ 3.] 2.0\n",
      "35 [ 3.] 5.0\n",
      "36 [ 2.] 3.0\n",
      "37 [ 2.] 3.0\n",
      "39 [ 3.] 4.0\n",
      "40 [ 3.] 4.0\n",
      "41 [ 4.] 3.0\n",
      "43 [ 3.] 4.0\n",
      "45 [ 3.] 4.0\n",
      "46 [ 3.] 2.0\n",
      "47 [ 3.] 4.0\n",
      "49 [ 3.] 4.0\n",
      "51 [ 3.] 2.0\n",
      "55 [ 2.] 3.0\n",
      "56 [ 3.] 2.0\n",
      "57 [ 4.] 3.0\n",
      "59 [ 4.] 3.0\n",
      "60 [ 4.] 3.0\n",
      "61 [ 2.] 4.0\n",
      "62 [ 3.] 4.0\n",
      "63 [ 2.] 3.0\n",
      "66 [ 4.] 3.0\n",
      "68 [ 3.] 5.0\n",
      "72 [ 5.] 4.0\n",
      "74 [ 4.] 3.0\n",
      "75 [ 3.] 5.0\n",
      "76 [ 2.] 3.0\n",
      "78 [ 4.] 3.0\n",
      "79 [ 3.] 2.0\n",
      "82 [ 3.] 2.0\n",
      "86 [ 3.] 5.0\n",
      "88 [ 4.] 3.0\n",
      "90 [ 3.] 4.0\n",
      "92 [ 2.] 4.0\n",
      "93 [ 4.] 3.0\n",
      "96 [ 3.] 5.0\n",
      "98 [ 4.] 3.0\n",
      "0.4949494949494949\n"
     ]
    }
   ],
   "source": [
    "c = 0\n",
    "for i in range(test_row):\n",
    "    if clf.predict([test[i,:]]) != test_label_1[i]:\n",
    "        print(i,clf.predict([test[i,:]]),test_label_1[i])\n",
    "        c += 1\n",
    "print(1-c/test_row)"
   ]
  },
  {
   "cell_type": "code",
   "execution_count": null,
   "metadata": {
    "collapsed": true
   },
   "outputs": [],
   "source": []
  }
 ],
 "metadata": {
  "kernelspec": {
   "display_name": "Python 3",
   "language": "python",
   "name": "python3"
  },
  "language_info": {
   "codemirror_mode": {
    "name": "ipython",
    "version": 3
   },
   "file_extension": ".py",
   "mimetype": "text/x-python",
   "name": "python",
   "nbconvert_exporter": "python",
   "pygments_lexer": "ipython3",
   "version": "3.6.2"
  }
 },
 "nbformat": 4,
 "nbformat_minor": 2
}
