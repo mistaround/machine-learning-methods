{
 "cells": [
  {
   "cell_type": "code",
   "execution_count": 1,
   "metadata": {
    "collapsed": true
   },
   "outputs": [],
   "source": [
    "import numpy as np\n",
    "from sklearn import svm\n",
    "from sklearn import preprocessing"
   ]
  },
  {
   "cell_type": "code",
   "execution_count": 2,
   "metadata": {
    "collapsed": true
   },
   "outputs": [],
   "source": [
    "datasetin = np.loadtxt('m_train_ori.csv',delimiter=',')\n",
    "testset = np.loadtxt('m_test_ori.csv',delimiter=',')"
   ]
  },
  {
   "cell_type": "code",
   "execution_count": 3,
   "metadata": {
    "scrolled": true
   },
   "outputs": [
    {
     "name": "stdout",
     "output_type": "stream",
     "text": [
      "0.759493670886076\n"
     ]
    }
   ],
   "source": [
    "test_row = testset.shape[0]\n",
    "test_col = testset.shape[1]\n",
    "\n",
    "test = testset[0:test_row,0:test_col-2]\n",
    "test = preprocessing.scale(test)\n",
    "\n",
    "test_label_1 = testset[0:test_row,test_col-2]\n",
    "#print(test_label_1.shape)\n",
    "\n",
    "prob = [[0.0 for x in range(test_row)],[0.0 for x in range(test_row)],[0.0 for x in range(test_row)],[0.0 for x in range(test_row)],[0.0 for x in range(test_row)]]\n",
    "prob = np.array(prob)\n",
    "\n",
    "for i in range(5):\n",
    "    \n",
    "    dataset = datasetin.copy()\n",
    "    row = dataset.shape[0]\n",
    "    col = dataset.shape[1]\n",
    "\n",
    "    for j in range(datasetin.shape[0]):\n",
    "        if dataset[j,col-2] != i + 1:\n",
    "            dataset[j,col-2] = -1.\n",
    "        else:\n",
    "            dataset[j,col-2] = 1.\n",
    "    \n",
    "    #print(dataset)\n",
    "        \n",
    "    train = dataset[0:row,0:col-2]\n",
    "    train = preprocessing.scale(train)\n",
    "    #print(train)\n",
    "    #print(train.shape)\n",
    "        \n",
    "    train_label_1 = dataset[0:row,col-2]\n",
    "    #print(train_label_1.shape)\n",
    "        \n",
    "    clf = svm.SVC(probability=True)\n",
    "    clf.fit(train, train_label_1)\n",
    "            \n",
    "    for j in range(test_row):\n",
    "        clf.predict([test[j,:]])\n",
    "        #print(clf.predict_proba([test[j,:]])[0])\n",
    "        prob[i,j] = clf.predict_proba([test[j,:]])[0,1]\n",
    "            \n",
    "prob = prob.T\n",
    "#print(prob)\n",
    "label = np.argmax(prob, axis=1)\n",
    "\n",
    "c = 0\n",
    "for i in range(label.shape[0]):\n",
    "    if label[i] + 1 != test_label_1[i]:\n",
    "        #print(i,label[i] + 1,test_label_1[i])\n",
    "        c += 1\n",
    "    \n",
    "print(1-c/test_row)"
   ]
  },
  {
   "cell_type": "code",
   "execution_count": null,
   "metadata": {
    "collapsed": true
   },
   "outputs": [],
   "source": []
  },
  {
   "cell_type": "code",
   "execution_count": null,
   "metadata": {
    "collapsed": true
   },
   "outputs": [],
   "source": []
  },
  {
   "cell_type": "code",
   "execution_count": null,
   "metadata": {
    "collapsed": true
   },
   "outputs": [],
   "source": [
    "         "
   ]
  },
  {
   "cell_type": "code",
   "execution_count": 4,
   "metadata": {
    "collapsed": true
   },
   "outputs": [],
   "source": [
    "#c = 0\n",
    "#for i in range(test_row):\n",
    "    #if clf.predict([test[i,:]]) != test_label_1[i]:\n",
    "        #print(i,clf.predict([test[i,:]]),test_label_1[i])\n",
    "        #c += 1\n",
    "#print(c/test_row)"
   ]
  },
  {
   "cell_type": "code",
   "execution_count": null,
   "metadata": {
    "collapsed": true
   },
   "outputs": [],
   "source": []
  },
  {
   "cell_type": "code",
   "execution_count": null,
   "metadata": {
    "collapsed": true
   },
   "outputs": [],
   "source": []
  },
  {
   "cell_type": "code",
   "execution_count": null,
   "metadata": {
    "collapsed": true
   },
   "outputs": [],
   "source": []
  }
 ],
 "metadata": {
  "kernelspec": {
   "display_name": "Python 3",
   "language": "python",
   "name": "python3"
  },
  "language_info": {
   "codemirror_mode": {
    "name": "ipython",
    "version": 3
   },
   "file_extension": ".py",
   "mimetype": "text/x-python",
   "name": "python",
   "nbconvert_exporter": "python",
   "pygments_lexer": "ipython3",
   "version": "3.6.2"
  }
 },
 "nbformat": 4,
 "nbformat_minor": 2
}
