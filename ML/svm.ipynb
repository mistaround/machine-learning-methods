{
 "cells": [
  {
   "cell_type": "code",
   "execution_count": 1,
   "metadata": {
    "collapsed": true
   },
   "outputs": [],
   "source": [
    "import numpy as np\n",
    "from sklearn import svm\n",
    "from sklearn import preprocessing"
   ]
  },
  {
   "cell_type": "code",
   "execution_count": 2,
   "metadata": {
    "collapsed": true
   },
   "outputs": [],
   "source": [
    "dataset = np.loadtxt('m_train_ori.csv',delimiter=',')\n",
    "testset = np.loadtxt('m_test_ori.csv',delimiter=',')"
   ]
  },
  {
   "cell_type": "code",
   "execution_count": 3,
   "metadata": {
    "scrolled": true
   },
   "outputs": [
    {
     "name": "stdout",
     "output_type": "stream",
     "text": [
      "[[  0.   0.  18. ...,   6.   1.   1.]\n",
      " [  0.   0.  17. ...,   6.   1.   1.]\n",
      " [  0.   0.  15. ...,  15.   1.   1.]\n",
      " ..., \n",
      " [  1.   1.  21. ...,   7.   3.   3.]\n",
      " [  1.   1.  18. ...,  10.   3.   4.]\n",
      " [  1.   1.  19. ...,   9.   3.   3.]]\n",
      "(316, 33)\n"
     ]
    }
   ],
   "source": [
    "print(dataset)\n",
    "print(dataset.shape)\n",
    "\n",
    "row = dataset.shape[0]\n",
    "col = dataset.shape[1]\n",
    "\n",
    "test_row = testset.shape[0]\n",
    "test_col = testset.shape[1]"
   ]
  },
  {
   "cell_type": "code",
   "execution_count": 4,
   "metadata": {},
   "outputs": [
    {
     "name": "stdout",
     "output_type": "stream",
     "text": [
      "[[-0.35856858 -0.94457163  1.01710537 ..., -1.74891026 -1.23943449\n",
      "  -0.95003716]\n",
      " [-0.35856858 -0.94457163  0.22934729 ..., -1.74891026 -1.50141529\n",
      "  -0.95003716]\n",
      " [-0.35856858 -0.94457163 -1.34616887 ...,  1.21121637  0.85641192\n",
      "   0.98542536]\n",
      " ..., \n",
      " [ 2.78886676  1.05868096  3.38037961 ..., -0.26884694 -0.71547288\n",
      "  -0.73498577]\n",
      " [ 2.78886676  1.05868096  1.01710537 ...,  0.02716572  0.33245032\n",
      "  -0.08983159]\n",
      " [ 2.78886676  1.05868096  1.80486345 ..., -0.86087227 -0.45349208\n",
      "  -0.30488298]]\n",
      "(316, 31)\n"
     ]
    }
   ],
   "source": [
    "train = dataset[0:row,0:col-2]\n",
    "train = preprocessing.scale(train)\n",
    "print(train)\n",
    "print(train.shape)\n",
    "\n",
    "test = testset[0:test_row,0:test_col-2] \n",
    "test = preprocessing.scale(test)"
   ]
  },
  {
   "cell_type": "code",
   "execution_count": 5,
   "metadata": {},
   "outputs": [
    {
     "name": "stdout",
     "output_type": "stream",
     "text": [
      "(316,)\n",
      "(79,)\n"
     ]
    },
    {
     "data": {
      "text/plain": [
       "[276, 75, 26, 9, 9]"
      ]
     },
     "execution_count": 5,
     "metadata": {},
     "output_type": "execute_result"
    }
   ],
   "source": [
    "train_label_1 = dataset[0:row,col-2]\n",
    "print(train_label_1.shape)\n",
    "        \n",
    "test_label_1 = testset[0:test_row,test_col-2]\n",
    "print(test_label_1.shape)\n",
    "\n",
    "count = [0,0,0,0,0]\n",
    "for i in range(row):\n",
    "    count[int(train_label_1[i]) - 1] += 1\n",
    "for i in range(test_row):\n",
    "    count[int(test_label_1[i]) - 1] += 1\n",
    "count    \n"
   ]
  },
  {
   "cell_type": "code",
   "execution_count": 6,
   "metadata": {},
   "outputs": [
    {
     "data": {
      "text/plain": [
       "SVC(C=1.0, cache_size=200, class_weight=None, coef0=0.0,\n",
       "  decision_function_shape='ovr', degree=3, gamma='auto', kernel='rbf',\n",
       "  max_iter=-1, probability=False, random_state=None, shrinking=True,\n",
       "  tol=0.001, verbose=False)"
      ]
     },
     "execution_count": 6,
     "metadata": {},
     "output_type": "execute_result"
    }
   ],
   "source": [
    "clf = svm.SVC(decision_function_shape = 'ovr')\n",
    "clf.fit(train, train_label_1)"
   ]
  },
  {
   "cell_type": "code",
   "execution_count": 7,
   "metadata": {},
   "outputs": [
    {
     "name": "stdout",
     "output_type": "stream",
     "text": [
      "0.7373417721518987\n"
     ]
    }
   ],
   "source": [
    "c = 0\n",
    "for i in range(row):\n",
    "    if clf.predict([train[i,:]]) != train_label_1[i]:\n",
    "        #print(i,clf.predict([train[i,:]]),train_label_1[i])\n",
    "        c += 1\n",
    "print(1-c/row)"
   ]
  },
  {
   "cell_type": "code",
   "execution_count": 8,
   "metadata": {},
   "outputs": [
    {
     "name": "stdout",
     "output_type": "stream",
     "text": [
      "0.7721518987341772\n"
     ]
    }
   ],
   "source": [
    "c = 0\n",
    "for i in range(test_row):\n",
    "    if clf.predict([test[i,:]]) != test_label_1[i]:\n",
    "        #print(i,clf.predict([test[i,:]]),test_label_1[i])\n",
    "        c += 1\n",
    "print(1-c/test_row)"
   ]
  },
  {
   "cell_type": "code",
   "execution_count": null,
   "metadata": {
    "collapsed": true
   },
   "outputs": [],
   "source": []
  },
  {
   "cell_type": "code",
   "execution_count": null,
   "metadata": {
    "collapsed": true
   },
   "outputs": [],
   "source": []
  }
 ],
 "metadata": {
  "kernelspec": {
   "display_name": "Python 3",
   "language": "python",
   "name": "python3"
  },
  "language_info": {
   "codemirror_mode": {
    "name": "ipython",
    "version": 3
   },
   "file_extension": ".py",
   "mimetype": "text/x-python",
   "name": "python",
   "nbconvert_exporter": "python",
   "pygments_lexer": "ipython3",
   "version": "3.6.2"
  }
 },
 "nbformat": 4,
 "nbformat_minor": 2
}
