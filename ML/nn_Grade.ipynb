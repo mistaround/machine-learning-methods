{
 "cells": [
  {
   "cell_type": "code",
   "execution_count": 1,
   "metadata": {
    "collapsed": true
   },
   "outputs": [],
   "source": [
    "import numpy as np\n",
    "from sklearn import neighbors\n",
    "from sklearn import preprocessing\n",
    "from sklearn.model_selection import train_test_split"
   ]
  },
  {
   "cell_type": "code",
   "execution_count": 2,
   "metadata": {
    "collapsed": true
   },
   "outputs": [],
   "source": [
    "data = np.loadtxt('grade.csv',delimiter=',')\n",
    "row = data.shape[0]\n",
    "col = data.shape[1]\n",
    "\n",
    "label = data[:,col-3]\n",
    "data = data[:,:col-3]\n",
    "\n",
    "for i in range(row):\n",
    "    if label[i] <= 4:\n",
    "        label[i] = 1\n",
    "    elif label[i] <= 8:\n",
    "        label[i] = 2\n",
    "    elif label[i] <= 12:\n",
    "        label[i] = 3\n",
    "    elif label[i] <= 16:\n",
    "        label[i] = 4\n",
    "    elif label[i] <= 20:\n",
    "        label[i] = 5"
   ]
  },
  {
   "cell_type": "code",
   "execution_count": 3,
   "metadata": {
    "collapsed": true
   },
   "outputs": [],
   "source": [
    "train, test, train_label_1, test_label_1 = train_test_split(data, label, test_size=0.25)\n",
    "train = preprocessing.scale(train)\n",
    "test = preprocessing.scale(test)\n",
    "train_row = train.shape[0]\n",
    "test_row = test.shape[0]"
   ]
  },
  {
   "cell_type": "code",
   "execution_count": 4,
   "metadata": {},
   "outputs": [
    {
     "data": {
      "text/plain": [
       "KNeighborsClassifier(algorithm='auto', leaf_size=30, metric='minkowski',\n",
       "           metric_params=None, n_jobs=1, n_neighbors=12, p=2,\n",
       "           weights='distance')"
      ]
     },
     "execution_count": 4,
     "metadata": {},
     "output_type": "execute_result"
    }
   ],
   "source": [
    "n_neighbors = 12\n",
    "clf = neighbors.KNeighborsClassifier(n_neighbors, weights='distance')\n",
    "clf.fit(train, train_label_1)"
   ]
  },
  {
   "cell_type": "code",
   "execution_count": 5,
   "metadata": {},
   "outputs": [
    {
     "name": "stdout",
     "output_type": "stream",
     "text": [
      "1.0\n"
     ]
    }
   ],
   "source": [
    "c = 0\n",
    "for i in range(train_row):\n",
    "    if clf.predict([train[i,:]]) != train_label_1[i]:\n",
    "        print(i,clf.predict([train[i,:]]),train_label_1[i])\n",
    "        c += 1\n",
    "print(1-c/train_row)"
   ]
  },
  {
   "cell_type": "code",
   "execution_count": 6,
   "metadata": {},
   "outputs": [
    {
     "name": "stdout",
     "output_type": "stream",
     "text": [
      "0 [ 3.] 4.0\n",
      "4 [ 4.] 2.0\n",
      "5 [ 4.] 3.0\n",
      "6 [ 3.] 5.0\n",
      "7 [ 4.] 3.0\n",
      "8 [ 3.] 2.0\n",
      "9 [ 4.] 2.0\n",
      "10 [ 4.] 3.0\n",
      "11 [ 3.] 2.0\n",
      "12 [ 4.] 3.0\n",
      "13 [ 3.] 5.0\n",
      "14 [ 4.] 3.0\n",
      "15 [ 4.] 3.0\n",
      "17 [ 2.] 3.0\n",
      "18 [ 2.] 4.0\n",
      "19 [ 2.] 3.0\n",
      "20 [ 4.] 3.0\n",
      "21 [ 3.] 2.0\n",
      "22 [ 4.] 3.0\n",
      "25 [ 4.] 3.0\n",
      "27 [ 4.] 3.0\n",
      "29 [ 4.] 3.0\n",
      "32 [ 4.] 2.0\n",
      "34 [ 4.] 3.0\n",
      "35 [ 3.] 4.0\n",
      "36 [ 2.] 3.0\n",
      "38 [ 3.] 2.0\n",
      "39 [ 3.] 2.0\n",
      "40 [ 3.] 4.0\n",
      "42 [ 2.] 4.0\n",
      "43 [ 3.] 4.0\n",
      "44 [ 3.] 2.0\n",
      "45 [ 2.] 3.0\n",
      "47 [ 3.] 4.0\n",
      "48 [ 4.] 3.0\n",
      "51 [ 4.] 3.0\n",
      "53 [ 3.] 2.0\n",
      "54 [ 2.] 4.0\n",
      "55 [ 3.] 2.0\n",
      "57 [ 4.] 5.0\n",
      "58 [ 3.] 2.0\n",
      "60 [ 2.] 3.0\n",
      "61 [ 4.] 2.0\n",
      "65 [ 4.] 2.0\n",
      "66 [ 2.] 3.0\n",
      "70 [ 2.] 3.0\n",
      "71 [ 3.] 2.0\n",
      "74 [ 3.] 2.0\n",
      "75 [ 4.] 2.0\n",
      "78 [ 2.] 4.0\n",
      "83 [ 3.] 2.0\n",
      "84 [ 3.] 4.0\n",
      "88 [ 3.] 2.0\n",
      "89 [ 3.] 2.0\n",
      "91 [ 4.] 3.0\n",
      "92 [ 2.] 3.0\n",
      "95 [ 3.] 2.0\n",
      "96 [ 4.] 3.0\n",
      "0.41414141414141414\n"
     ]
    }
   ],
   "source": [
    "c = 0\n",
    "for i in range(test_row):\n",
    "    if clf.predict([test[i,:]]) != test_label_1[i]:\n",
    "        print(i,clf.predict([test[i,:]]),test_label_1[i])\n",
    "        c += 1\n",
    "print(1-c/test_row)"
   ]
  },
  {
   "cell_type": "code",
   "execution_count": null,
   "metadata": {
    "collapsed": true
   },
   "outputs": [],
   "source": []
  }
 ],
 "metadata": {
  "kernelspec": {
   "display_name": "Python 3",
   "language": "python",
   "name": "python3"
  },
  "language_info": {
   "codemirror_mode": {
    "name": "ipython",
    "version": 3
   },
   "file_extension": ".py",
   "mimetype": "text/x-python",
   "name": "python",
   "nbconvert_exporter": "python",
   "pygments_lexer": "ipython3",
   "version": "3.6.2"
  }
 },
 "nbformat": 4,
 "nbformat_minor": 2
}
