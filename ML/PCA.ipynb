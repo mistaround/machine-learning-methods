{
 "cells": [
  {
   "cell_type": "code",
   "execution_count": 1,
   "metadata": {
    "collapsed": true
   },
   "outputs": [],
   "source": [
    "from sklearn.decomposition import PCA\n",
    "import numpy as np\n",
    "from sklearn import svm\n",
    "from sklearn import preprocessing"
   ]
  },
  {
   "cell_type": "code",
   "execution_count": 2,
   "metadata": {
    "collapsed": true
   },
   "outputs": [],
   "source": [
    "dataset = np.loadtxt('m_train_ori.csv',delimiter=',')\n",
    "testset = np.loadtxt('m_test_ori.csv',delimiter=',')\n",
    "row = dataset.shape[0]\n",
    "col = dataset.shape[1]\n",
    "test_row = testset.shape[0]\n",
    "test_col = testset.shape[1]"
   ]
  },
  {
   "cell_type": "code",
   "execution_count": 3,
   "metadata": {
    "collapsed": true
   },
   "outputs": [],
   "source": [
    "train = dataset[0:row,0:col-2]\n",
    "test = testset[0:test_row,0:test_col-2]\n",
    "train = preprocessing.scale(train)\n",
    "test = preprocessing.scale(test)\n",
    "\n",
    "train_label_1 = dataset[0:row,col-2]\n",
    "test_label_1 = testset[0:test_row,test_col-2]"
   ]
  },
  {
   "cell_type": "code",
   "execution_count": 4,
   "metadata": {
    "collapsed": true
   },
   "outputs": [],
   "source": [
    "pca = PCA(n_components = 15)\n",
    "clf = svm.SVC()\n",
    "train = pca.fit_transform(train)\n",
    "test = pca.transform(test)"
   ]
  },
  {
   "cell_type": "code",
   "execution_count": 5,
   "metadata": {},
   "outputs": [
    {
     "data": {
      "text/plain": [
       "SVC(C=1.0, cache_size=200, class_weight=None, coef0=0.0,\n",
       "  decision_function_shape='ovr', degree=3, gamma='auto', kernel='rbf',\n",
       "  max_iter=-1, probability=False, random_state=None, shrinking=True,\n",
       "  tol=0.001, verbose=False)"
      ]
     },
     "execution_count": 5,
     "metadata": {},
     "output_type": "execute_result"
    }
   ],
   "source": [
    "clf.fit(train,train_label_1)"
   ]
  },
  {
   "cell_type": "code",
   "execution_count": 6,
   "metadata": {},
   "outputs": [
    {
     "name": "stdout",
     "output_type": "stream",
     "text": [
      "20 [ 1.] 2.0\n",
      "23 [ 1.] 2.0\n",
      "25 [ 1.] 5.0\n",
      "26 [ 1.] 3.0\n",
      "34 [ 1.] 2.0\n",
      "39 [ 1.] 2.0\n",
      "41 [ 1.] 2.0\n",
      "43 [ 1.] 2.0\n",
      "44 [ 1.] 4.0\n",
      "50 [ 1.] 2.0\n",
      "51 [ 1.] 5.0\n",
      "52 [ 1.] 2.0\n",
      "54 [ 1.] 5.0\n",
      "56 [ 1.] 2.0\n",
      "58 [ 1.] 2.0\n",
      "59 [ 1.] 2.0\n",
      "60 [ 1.] 2.0\n",
      "68 [ 1.] 2.0\n",
      "69 [ 1.] 2.0\n",
      "71 [ 1.] 3.0\n",
      "74 [ 1.] 2.0\n",
      "79 [ 1.] 5.0\n",
      "99 [ 1.] 3.0\n",
      "102 [ 1.] 2.0\n",
      "103 [ 1.] 2.0\n",
      "108 [ 1.] 2.0\n",
      "114 [ 1.] 3.0\n",
      "122 [ 1.] 3.0\n",
      "125 [ 1.] 3.0\n",
      "127 [ 1.] 4.0\n",
      "130 [ 1.] 2.0\n",
      "139 [ 1.] 4.0\n",
      "142 [ 1.] 3.0\n",
      "143 [ 1.] 2.0\n",
      "145 [ 1.] 2.0\n",
      "147 [ 1.] 2.0\n",
      "151 [ 1.] 4.0\n",
      "152 [ 1.] 3.0\n",
      "154 [ 1.] 3.0\n",
      "160 [ 1.] 3.0\n",
      "161 [ 1.] 2.0\n",
      "164 [ 1.] 4.0\n",
      "166 [ 1.] 2.0\n",
      "175 [ 1.] 5.0\n",
      "179 [ 1.] 4.0\n",
      "184 [ 1.] 2.0\n",
      "189 [ 1.] 3.0\n",
      "197 [ 1.] 2.0\n",
      "202 [ 1.] 2.0\n",
      "210 [ 1.] 3.0\n",
      "211 [ 1.] 3.0\n",
      "212 [ 1.] 2.0\n",
      "214 [ 1.] 3.0\n",
      "217 [ 1.] 2.0\n",
      "219 [ 1.] 2.0\n",
      "223 [ 1.] 3.0\n",
      "236 [ 1.] 2.0\n",
      "248 [ 1.] 2.0\n",
      "255 [ 1.] 2.0\n",
      "256 [ 1.] 3.0\n",
      "259 [ 1.] 2.0\n",
      "260 [ 1.] 2.0\n",
      "261 [ 1.] 2.0\n",
      "262 [ 1.] 2.0\n",
      "263 [ 1.] 3.0\n",
      "264 [ 1.] 5.0\n",
      "271 [ 1.] 2.0\n",
      "273 [ 1.] 2.0\n",
      "277 [ 1.] 2.0\n",
      "282 [ 1.] 2.0\n",
      "291 [ 1.] 2.0\n",
      "292 [ 1.] 2.0\n",
      "294 [ 1.] 4.0\n",
      "306 [ 1.] 4.0\n",
      "0.23417721518987342\n"
     ]
    }
   ],
   "source": [
    "c = 0\n",
    "for i in range(row):\n",
    "    if clf.predict([train[i,:]]) != train_label_1[i]:\n",
    "        print(i,clf.predict([train[i,:]]),train_label_1[i])\n",
    "        c += 1\n",
    "print(c/row)"
   ]
  },
  {
   "cell_type": "code",
   "execution_count": 7,
   "metadata": {},
   "outputs": [
    {
     "name": "stdout",
     "output_type": "stream",
     "text": [
      "0 [ 1.] 2.0\n",
      "8 [ 1.] 2.0\n",
      "9 [ 1.] 3.0\n",
      "11 [ 1.] 2.0\n",
      "14 [ 1.] 2.0\n",
      "37 [ 1.] 2.0\n",
      "43 [ 1.] 2.0\n",
      "47 [ 1.] 2.0\n",
      "49 [ 1.] 5.0\n",
      "61 [ 1.] 2.0\n",
      "62 [ 1.] 2.0\n",
      "63 [ 1.] 2.0\n",
      "66 [ 1.] 2.0\n",
      "68 [ 1.] 2.0\n",
      "70 [ 1.] 3.0\n",
      "76 [ 1.] 3.0\n",
      "77 [ 1.] 2.0\n",
      "78 [ 1.] 4.0\n",
      "0.22784810126582278\n"
     ]
    }
   ],
   "source": [
    "c = 0\n",
    "for i in range(test_row):\n",
    "    if clf.predict([test[i,:]]) != test_label_1[i]:\n",
    "        print(i,clf.predict([test[i,:]]),test_label_1[i])\n",
    "        c += 1\n",
    "print(c/test_row)"
   ]
  },
  {
   "cell_type": "code",
   "execution_count": null,
   "metadata": {
    "collapsed": true
   },
   "outputs": [],
   "source": []
  }
 ],
 "metadata": {
  "kernelspec": {
   "display_name": "Python 3",
   "language": "python",
   "name": "python3"
  },
  "language_info": {
   "codemirror_mode": {
    "name": "ipython",
    "version": 3
   },
   "file_extension": ".py",
   "mimetype": "text/x-python",
   "name": "python",
   "nbconvert_exporter": "python",
   "pygments_lexer": "ipython3",
   "version": "3.6.2"
  }
 },
 "nbformat": 4,
 "nbformat_minor": 2
}
