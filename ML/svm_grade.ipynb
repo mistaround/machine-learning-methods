{
 "cells": [
  {
   "cell_type": "code",
   "execution_count": 1,
   "metadata": {
    "collapsed": true
   },
   "outputs": [],
   "source": [
    "import numpy as np\n",
    "from sklearn import svm\n",
    "from sklearn import preprocessing\n",
    "from sklearn.model_selection import train_test_split"
   ]
  },
  {
   "cell_type": "code",
   "execution_count": 2,
   "metadata": {
    "collapsed": true
   },
   "outputs": [],
   "source": [
    "data = np.loadtxt('grade.csv',delimiter=',')\n",
    "row = data.shape[0]\n",
    "col = data.shape[1]\n",
    "\n",
    "label = data[:,col-3]\n",
    "data = data[:,:col-3]\n",
    "\n",
    "for i in range(row):\n",
    "    if label[i] <= 4:\n",
    "        label[i] = 1\n",
    "    elif label[i] <= 8:\n",
    "        label[i] = 2\n",
    "    elif label[i] <= 12:\n",
    "        label[i] = 3\n",
    "    elif label[i] <= 16:\n",
    "        label[i] = 4\n",
    "    elif label[i] <= 20:\n",
    "        label[i] = 5"
   ]
  },
  {
   "cell_type": "code",
   "execution_count": 3,
   "metadata": {
    "collapsed": true
   },
   "outputs": [],
   "source": [
    "train, test, train_label_1, test_label_1 = train_test_split(data, label, test_size=0.25)\n",
    "train = preprocessing.scale(train)\n",
    "test = preprocessing.scale(test)\n",
    "train_row = train.shape[0]\n",
    "test_row = test.shape[0]"
   ]
  },
  {
   "cell_type": "code",
   "execution_count": 4,
   "metadata": {},
   "outputs": [
    {
     "data": {
      "text/plain": [
       "SVC(C=1.0, cache_size=200, class_weight=None, coef0=0.0,\n",
       "  decision_function_shape='ovr', degree=3, gamma='auto', kernel='rbf',\n",
       "  max_iter=-1, probability=False, random_state=None, shrinking=True,\n",
       "  tol=0.001, verbose=False)"
      ]
     },
     "execution_count": 4,
     "metadata": {},
     "output_type": "execute_result"
    }
   ],
   "source": [
    "clf = svm.SVC()\n",
    "clf.fit(train, train_label_1)"
   ]
  },
  {
   "cell_type": "code",
   "execution_count": 5,
   "metadata": {},
   "outputs": [
    {
     "name": "stdout",
     "output_type": "stream",
     "text": [
      "2 [ 4.] 5.0\n",
      "4 [ 2.] 4.0\n",
      "6 [ 3.] 2.0\n",
      "19 [ 3.] 4.0\n",
      "21 [ 3.] 4.0\n",
      "22 [ 3.] 4.0\n",
      "35 [ 3.] 4.0\n",
      "37 [ 4.] 2.0\n",
      "45 [ 3.] 4.0\n",
      "52 [ 3.] 4.0\n",
      "55 [ 3.] 2.0\n",
      "57 [ 3.] 4.0\n",
      "58 [ 4.] 3.0\n",
      "72 [ 4.] 3.0\n",
      "73 [ 2.] 5.0\n",
      "77 [ 4.] 3.0\n",
      "78 [ 3.] 2.0\n",
      "79 [ 3.] 4.0\n",
      "80 [ 3.] 2.0\n",
      "86 [ 4.] 3.0\n",
      "87 [ 3.] 2.0\n",
      "92 [ 4.] 2.0\n",
      "103 [ 2.] 4.0\n",
      "110 [ 3.] 2.0\n",
      "117 [ 2.] 5.0\n",
      "123 [ 2.] 3.0\n",
      "132 [ 2.] 4.0\n",
      "141 [ 2.] 3.0\n",
      "146 [ 3.] 5.0\n",
      "149 [ 2.] 5.0\n",
      "156 [ 4.] 5.0\n",
      "159 [ 3.] 2.0\n",
      "163 [ 3.] 5.0\n",
      "174 [ 2.] 4.0\n",
      "186 [ 2.] 4.0\n",
      "189 [ 4.] 5.0\n",
      "202 [ 4.] 3.0\n",
      "208 [ 4.] 3.0\n",
      "213 [ 3.] 1.0\n",
      "214 [ 3.] 2.0\n",
      "231 [ 3.] 2.0\n",
      "233 [ 4.] 5.0\n",
      "234 [ 3.] 5.0\n",
      "237 [ 4.] 3.0\n",
      "238 [ 2.] 1.0\n",
      "239 [ 4.] 2.0\n",
      "240 [ 4.] 5.0\n",
      "242 [ 3.] 4.0\n",
      "243 [ 3.] 2.0\n",
      "248 [ 4.] 3.0\n",
      "257 [ 3.] 2.0\n",
      "266 [ 4.] 5.0\n",
      "268 [ 3.] 5.0\n",
      "272 [ 3.] 2.0\n",
      "275 [ 4.] 2.0\n",
      "278 [ 3.] 2.0\n",
      "283 [ 3.] 4.0\n",
      "285 [ 3.] 2.0\n",
      "289 [ 3.] 4.0\n",
      "291 [ 4.] 5.0\n",
      "0.7972972972972973\n"
     ]
    }
   ],
   "source": [
    "c = 0\n",
    "for i in range(train_row):\n",
    "    if clf.predict([train[i,:]]) != train_label_1[i]:\n",
    "        print(i,clf.predict([train[i,:]]),train_label_1[i])\n",
    "        c += 1\n",
    "print(1-c/train_row)"
   ]
  },
  {
   "cell_type": "code",
   "execution_count": 6,
   "metadata": {},
   "outputs": [
    {
     "name": "stdout",
     "output_type": "stream",
     "text": [
      "0 [ 4.] 3.0\n",
      "1 [ 3.] 4.0\n",
      "2 [ 3.] 2.0\n",
      "5 [ 3.] 2.0\n",
      "7 [ 3.] 5.0\n",
      "10 [ 3.] 4.0\n",
      "11 [ 2.] 3.0\n",
      "12 [ 3.] 4.0\n",
      "13 [ 2.] 3.0\n",
      "15 [ 3.] 2.0\n",
      "16 [ 2.] 4.0\n",
      "18 [ 4.] 3.0\n",
      "19 [ 3.] 4.0\n",
      "20 [ 2.] 3.0\n",
      "21 [ 3.] 4.0\n",
      "22 [ 2.] 3.0\n",
      "23 [ 3.] 4.0\n",
      "25 [ 2.] 3.0\n",
      "27 [ 3.] 4.0\n",
      "33 [ 2.] 3.0\n",
      "34 [ 2.] 4.0\n",
      "35 [ 3.] 2.0\n",
      "38 [ 2.] 3.0\n",
      "39 [ 2.] 5.0\n",
      "40 [ 3.] 2.0\n",
      "41 [ 4.] 3.0\n",
      "49 [ 3.] 2.0\n",
      "53 [ 4.] 3.0\n",
      "56 [ 3.] 4.0\n",
      "58 [ 4.] 3.0\n",
      "63 [ 2.] 3.0\n",
      "64 [ 3.] 4.0\n",
      "66 [ 4.] 3.0\n",
      "69 [ 3.] 5.0\n",
      "70 [ 2.] 3.0\n",
      "73 [ 2.] 3.0\n",
      "76 [ 4.] 3.0\n",
      "78 [ 3.] 4.0\n",
      "79 [ 3.] 4.0\n",
      "82 [ 4.] 3.0\n",
      "83 [ 3.] 5.0\n",
      "84 [ 4.] 5.0\n",
      "85 [ 3.] 2.0\n",
      "86 [ 3.] 4.0\n",
      "88 [ 2.] 4.0\n",
      "89 [ 4.] 3.0\n",
      "91 [ 3.] 4.0\n",
      "95 [ 3.] 2.0\n",
      "97 [ 2.] 3.0\n",
      "98 [ 4.] 3.0\n",
      "0.4949494949494949\n"
     ]
    }
   ],
   "source": [
    "c = 0\n",
    "for i in range(test_row):\n",
    "    if clf.predict([test[i,:]]) != test_label_1[i]:\n",
    "        print(i,clf.predict([test[i,:]]),test_label_1[i])\n",
    "        c += 1\n",
    "print(1-c/test_row)"
   ]
  },
  {
   "cell_type": "code",
   "execution_count": null,
   "metadata": {
    "collapsed": true
   },
   "outputs": [],
   "source": []
  }
 ],
 "metadata": {
  "kernelspec": {
   "display_name": "Python 3",
   "language": "python",
   "name": "python3"
  },
  "language_info": {
   "codemirror_mode": {
    "name": "ipython",
    "version": 3
   },
   "file_extension": ".py",
   "mimetype": "text/x-python",
   "name": "python",
   "nbconvert_exporter": "python",
   "pygments_lexer": "ipython3",
   "version": "3.6.2"
  }
 },
 "nbformat": 4,
 "nbformat_minor": 2
}
