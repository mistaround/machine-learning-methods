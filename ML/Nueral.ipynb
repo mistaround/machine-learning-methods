{
 "cells": [
  {
   "cell_type": "code",
   "execution_count": 1,
   "metadata": {
    "collapsed": true
   },
   "outputs": [],
   "source": [
    "import numpy as np\n",
    "from sklearn.neural_network import MLPClassifier\n",
    "from sklearn import preprocessing"
   ]
  },
  {
   "cell_type": "code",
   "execution_count": 2,
   "metadata": {
    "collapsed": true
   },
   "outputs": [],
   "source": [
    "dataset = np.loadtxt('m_train_ori.csv',delimiter=',')\n",
    "testset = np.loadtxt('m_test_ori.csv',delimiter=',')"
   ]
  },
  {
   "cell_type": "code",
   "execution_count": 3,
   "metadata": {},
   "outputs": [
    {
     "name": "stdout",
     "output_type": "stream",
     "text": [
      "[[  0.   0.  18. ...,   6.   1.   1.]\n",
      " [  0.   0.  17. ...,   6.   1.   1.]\n",
      " [  0.   0.  15. ...,  15.   1.   1.]\n",
      " ..., \n",
      " [  1.   1.  21. ...,   7.   3.   3.]\n",
      " [  1.   1.  18. ...,  10.   3.   4.]\n",
      " [  1.   1.  19. ...,   9.   3.   3.]]\n",
      "(316, 33)\n"
     ]
    }
   ],
   "source": [
    "print(dataset)\n",
    "print(dataset.shape)\n",
    "\n",
    "row = dataset.shape[0]\n",
    "col = dataset.shape[1]\n",
    "\n",
    "test_row = testset.shape[0]\n",
    "test_col = testset.shape[1]"
   ]
  },
  {
   "cell_type": "code",
   "execution_count": 4,
   "metadata": {},
   "outputs": [
    {
     "name": "stdout",
     "output_type": "stream",
     "text": [
      "[[-0.35856858 -0.94457163  1.01710537 ..., -1.74891026 -1.23943449\n",
      "  -0.95003716]\n",
      " [-0.35856858 -0.94457163  0.22934729 ..., -1.74891026 -1.50141529\n",
      "  -0.95003716]\n",
      " [-0.35856858 -0.94457163 -1.34616887 ...,  1.21121637  0.85641192\n",
      "   0.98542536]\n",
      " ..., \n",
      " [ 2.78886676  1.05868096  3.38037961 ..., -0.26884694 -0.71547288\n",
      "  -0.73498577]\n",
      " [ 2.78886676  1.05868096  1.01710537 ...,  0.02716572  0.33245032\n",
      "  -0.08983159]\n",
      " [ 2.78886676  1.05868096  1.80486345 ..., -0.86087227 -0.45349208\n",
      "  -0.30488298]]\n",
      "(316, 31)\n"
     ]
    }
   ],
   "source": [
    "train = dataset[0:row,0:col-2]\n",
    "train = preprocessing.scale(train)\n",
    "print(train)\n",
    "print(train.shape)\n",
    "\n",
    "test = testset[0:test_row,0:test_col-2]\n",
    "test = preprocessing.scale(test)"
   ]
  },
  {
   "cell_type": "code",
   "execution_count": 5,
   "metadata": {},
   "outputs": [
    {
     "name": "stdout",
     "output_type": "stream",
     "text": [
      "(316,)\n",
      "(79,)\n"
     ]
    }
   ],
   "source": [
    "train_label_1 = dataset[0:row,col-2]\n",
    "print(train_label_1.shape)\n",
    "for i in range(row):\n",
    "    if train_label_1[i] != 1.:\n",
    "        train_label_1[i] = 2.\n",
    "        \n",
    "test_label_1 = testset[0:test_row,test_col-2]\n",
    "print(test_label_1.shape)\n",
    "for i in range(test_row):\n",
    "    if test_label_1[i] != 1.:\n",
    "        test_label_1[i] = 2."
   ]
  },
  {
   "cell_type": "code",
   "execution_count": 6,
   "metadata": {},
   "outputs": [
    {
     "data": {
      "text/plain": [
       "MLPClassifier(activation='relu', alpha=1e-05, batch_size='auto', beta_1=0.9,\n",
       "       beta_2=0.999, early_stopping=False, epsilon=1e-08,\n",
       "       hidden_layer_sizes=(64, 512, 64), learning_rate='constant',\n",
       "       learning_rate_init=0.001, max_iter=200, momentum=0.9,\n",
       "       nesterovs_momentum=True, power_t=0.5, random_state=1, shuffle=True,\n",
       "       solver='adam', tol=0.0001, validation_fraction=0.1, verbose=False,\n",
       "       warm_start=False)"
      ]
     },
     "execution_count": 6,
     "metadata": {},
     "output_type": "execute_result"
    }
   ],
   "source": [
    "clf = MLPClassifier(solver='adam', alpha=1e-5, hidden_layer_sizes=(64, 512, 64), random_state=1)\n",
    "clf.fit(train, train_label_1)"
   ]
  },
  {
   "cell_type": "code",
   "execution_count": 7,
   "metadata": {},
   "outputs": [
    {
     "name": "stdout",
     "output_type": "stream",
     "text": [
      "1.0\n"
     ]
    }
   ],
   "source": [
    "c = 0\n",
    "for i in range(row):\n",
    "    if clf.predict([train[i,:]]) != train_label_1[i]:\n",
    "        print(i,clf.predict([train[i,:]]),train_label_1[i])\n",
    "        c += 1\n",
    "print(1-c/row)"
   ]
  },
  {
   "cell_type": "code",
   "execution_count": 8,
   "metadata": {},
   "outputs": [
    {
     "name": "stdout",
     "output_type": "stream",
     "text": [
      "11 [ 1.] 2.0\n",
      "12 [ 2.] 1.0\n",
      "13 [ 2.] 1.0\n",
      "31 [ 2.] 1.0\n",
      "32 [ 2.] 1.0\n",
      "35 [ 2.] 1.0\n",
      "37 [ 1.] 2.0\n",
      "38 [ 2.] 1.0\n",
      "43 [ 1.] 2.0\n",
      "49 [ 1.] 2.0\n",
      "55 [ 2.] 1.0\n",
      "56 [ 2.] 1.0\n",
      "58 [ 2.] 1.0\n",
      "59 [ 2.] 1.0\n",
      "61 [ 1.] 2.0\n",
      "63 [ 1.] 2.0\n",
      "66 [ 1.] 2.0\n",
      "77 [ 1.] 2.0\n",
      "0.7721518987341772\n"
     ]
    }
   ],
   "source": [
    "c = 0\n",
    "for i in range(test_row):\n",
    "    if clf.predict([test[i,:]]) != test_label_1[i]:\n",
    "        print(i,clf.predict([test[i,:]]),test_label_1[i])\n",
    "        c += 1\n",
    "print(1-c/test_row)"
   ]
  }
 ],
 "metadata": {
  "kernelspec": {
   "display_name": "Python 3",
   "language": "python",
   "name": "python3"
  },
  "language_info": {
   "codemirror_mode": {
    "name": "ipython",
    "version": 3
   },
   "file_extension": ".py",
   "mimetype": "text/x-python",
   "name": "python",
   "nbconvert_exporter": "python",
   "pygments_lexer": "ipython3",
   "version": "3.6.2"
  }
 },
 "nbformat": 4,
 "nbformat_minor": 2
}
